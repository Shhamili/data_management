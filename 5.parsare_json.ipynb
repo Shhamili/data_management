{
 "cells": [
  {
   "cell_type": "code",
   "execution_count": 21,
   "metadata": {},
   "outputs": [],
   "source": [
    "import json\n",
    "from pprint import pprint"
   ]
  },
  {
   "cell_type": "code",
   "execution_count": 22,
   "metadata": {},
   "outputs": [
    {
     "name": "stdout",
     "output_type": "stream",
     "text": [
      "{'name': 'Euro 2024', 'groups': [{'name': 'Group A', 'teams': [{'name': 'Hungary', 'code': 'HUN'}, {'name': 'Switzerland', 'code': 'SUI'}, {'name': 'Germany', 'code': 'GER'}, {'name': 'Scotland', 'code': 'SCO'}]}, {'name': 'Group B', 'teams': [{'name': 'Spain', 'code': 'ESP'}, {'name': 'Italy', 'code': 'ITA'}, {'name': 'Croatia', 'code': 'CRO'}, {'name': 'Albania', 'code': 'ALB'}]}, {'name': 'Group C', 'teams': [{'name': 'Denmark', 'code': 'DEN'}, {'name': 'England', 'code': 'ENG'}, {'name': 'Slovenia', 'code': 'SVN'}, {'name': 'Serbia', 'code': 'SRB'}]}, {'name': 'Group D', 'teams': [{'name': 'France', 'code': 'FRA'}, {'name': 'Austria', 'code': 'AUT'}, {'name': 'Poland', 'code': 'POL'}, {'name': 'Netherlands', 'code': 'NED'}]}, {'name': 'Group E', 'teams': [{'name': 'Romania', 'code': 'ROU'}, {'name': 'Ukraine', 'code': 'UKR'}, {'name': 'Slovakia', 'code': 'SVK'}, {'name': 'Belgium', 'code': 'BEL'}]}, {'name': 'Group F', 'teams': [{'name': 'Czech Republic', 'code': 'CZE'}, {'name': 'Portugal', 'code': 'POR'}, {'name': 'Turkey', 'code': 'TUR'}, {'name': 'Georgia', 'code': 'GEO'}]}]}\n"
     ]
    }
   ],
   "source": [
    "with open(\"euro2024.json\") as file_handler:\n",
    "    continut_parsat = json.load(file_handler)\n",
    "    print(continut_parsat)"
   ]
  },
  {
   "cell_type": "code",
   "execution_count": 23,
   "metadata": {},
   "outputs": [
    {
     "name": "stdout",
     "output_type": "stream",
     "text": [
      "[{'name': 'Group A', 'teams': [{'name': 'Hungary', 'code': 'HUN'}, {'name': 'Switzerland', 'code': 'SUI'}, {'name': 'Germany', 'code': 'GER'}, {'name': 'Scotland', 'code': 'SCO'}]}, {'name': 'Group B', 'teams': [{'name': 'Spain', 'code': 'ESP'}, {'name': 'Italy', 'code': 'ITA'}, {'name': 'Croatia', 'code': 'CRO'}, {'name': 'Albania', 'code': 'ALB'}]}, {'name': 'Group C', 'teams': [{'name': 'Denmark', 'code': 'DEN'}, {'name': 'England', 'code': 'ENG'}, {'name': 'Slovenia', 'code': 'SVN'}, {'name': 'Serbia', 'code': 'SRB'}]}, {'name': 'Group D', 'teams': [{'name': 'France', 'code': 'FRA'}, {'name': 'Austria', 'code': 'AUT'}, {'name': 'Poland', 'code': 'POL'}, {'name': 'Netherlands', 'code': 'NED'}]}, {'name': 'Group E', 'teams': [{'name': 'Romania', 'code': 'ROU'}, {'name': 'Ukraine', 'code': 'UKR'}, {'name': 'Slovakia', 'code': 'SVK'}, {'name': 'Belgium', 'code': 'BEL'}]}, {'name': 'Group F', 'teams': [{'name': 'Czech Republic', 'code': 'CZE'}, {'name': 'Portugal', 'code': 'POR'}, {'name': 'Turkey', 'code': 'TUR'}, {'name': 'Georgia', 'code': 'GEO'}]}]\n"
     ]
    }
   ],
   "source": [
    "grupe = continut_parsat[\"groups\"]\n",
    "print(grupe)"
   ]
  },
  {
   "cell_type": "code",
   "execution_count": 25,
   "metadata": {},
   "outputs": [
    {
     "name": "stdout",
     "output_type": "stream",
     "text": [
      "[['Group A', 'Hungary', 'Switzerland', 'Germany', 'Scotland'], ['Group B', 'Spain', 'Italy', 'Croatia', 'Albania'], ['Group C', 'Denmark', 'England', 'Slovenia', 'Serbia'], ['Group D', 'France', 'Austria', 'Poland', 'Netherlands'], ['Group E', 'Romania', 'Ukraine', 'Slovakia', 'Belgium'], ['Group F', 'Czech Republic', 'Portugal', 'Turkey', 'Georgia']]\n"
     ]
    }
   ],
   "source": [
    "euro =[]\n",
    "for gr in grupe:\n",
    "    euro_grupa = []\n",
    "    euro_grupa.append(gr[\"name\"])\n",
    "    [euro_grupa.append(team[\"name\"]) for team in gr[\"teams\"]]\n",
    "    euro.append(euro_grupa)\n",
    "print(euro)"
   ]
  },
  {
   "cell_type": "code",
   "execution_count": 34,
   "metadata": {},
   "outputs": [],
   "source": [
    "with open(\"rezultat.csv\", \"w\") as file_handler:\n",
    "    file_handler.write(\"Grupa,Echipa1,Echipa2,Echipa3,Echipa4\\n\")\n",
    "    for gr in euro:\n",
    "        for item in gr:\n",
    "            if  gr.index(item)==0:\n",
    "                file_handler.write(item)\n",
    "            else:\n",
    "                file_handler.write(\",\" + item)\n",
    "        file_handler.write(\"\\n\")"
   ]
  }
 ],
 "metadata": {
  "kernelspec": {
   "display_name": "Python 3",
   "language": "python",
   "name": "python3"
  },
  "language_info": {
   "codemirror_mode": {
    "name": "ipython",
    "version": 3
   },
   "file_extension": ".py",
   "mimetype": "text/x-python",
   "name": "python",
   "nbconvert_exporter": "python",
   "pygments_lexer": "ipython3",
   "version": "3.13.0"
  }
 },
 "nbformat": 4,
 "nbformat_minor": 2
}
