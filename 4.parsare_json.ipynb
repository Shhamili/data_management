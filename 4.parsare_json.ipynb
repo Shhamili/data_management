{
 "cells": [
  {
   "cell_type": "code",
   "execution_count": null,
   "metadata": {},
   "outputs": [],
   "source": [
    "import json\n",
    "from pprint import pprint"
   ]
  },
  {
   "cell_type": "code",
   "execution_count": null,
   "metadata": {},
   "outputs": [],
   "source": [
    "with open(\"euro2024.json\") as file_handler:\n",
    "    continut_parsat = json.load(file_handler)\n",
    "    pprint(type(continut_parsat))\n",
    "    pprint(continut_parsat)"
   ]
  },
  {
   "cell_type": "code",
   "execution_count": null,
   "metadata": {},
   "outputs": [],
   "source": [
    "print(continut_parsat.keys())"
   ]
  },
  {
   "cell_type": "code",
   "execution_count": null,
   "metadata": {},
   "outputs": [],
   "source": [
    "tara = \"Romania\""
   ]
  },
  {
   "cell_type": "code",
   "execution_count": null,
   "metadata": {},
   "outputs": [],
   "source": [
    "groups = continut_parsat[\"groups\"]\n",
    "pprint(continut_parsat[\"groups\"])"
   ]
  },
  {
   "cell_type": "code",
   "execution_count": null,
   "metadata": {},
   "outputs": [],
   "source": [
    "for grup in groups:\n",
    "    pprint(type(grup))\n",
    "    pprint(grup[\"teams\"])\n",
    "    for team in grup[\"teams\"]:\n",
    "        pprint(type(team))\n",
    "        pprint(team)\n",
    "        if team[\"name\"] == tara:\n",
    "            pprint(f\"{tara} se afla in grupa {grup[\"name\"]}\")"
   ]
  }
 ],
 "metadata": {
  "kernelspec": {
   "display_name": "Python 3",
   "language": "python",
   "name": "python3"
  },
  "language_info": {
   "codemirror_mode": {
    "name": "ipython",
    "version": 3
   },
   "file_extension": ".py",
   "mimetype": "text/x-python",
   "name": "python",
   "nbconvert_exporter": "python",
   "pygments_lexer": "ipython3",
   "version": "3.13.0"
  }
 },
 "nbformat": 4,
 "nbformat_minor": 2
}
